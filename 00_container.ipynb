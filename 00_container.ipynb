{
 "cells": [
  {
   "cell_type": "code",
   "execution_count": null,
   "metadata": {},
   "outputs": [],
   "source": [
    "#| default_exp container"
   ]
  },
  {
   "cell_type": "markdown",
   "metadata": {},
   "source": [
    "# container -- un container de datasets Pandas\n",
    "\n",
    "> Une API très simple qui permet de créer ou charger des containers de données Pandas\n",
    ">\n",
    "> Un container donne accès à 3 datasets:\n",
    "> - le dataset initial qui a servi à la création\n",
    "> - un dataset épuré (private)\n",
    "> - un dataset épuré transformé (public) (colonnes anonymisées et données obfusquées)\n",
    ">\n",
    "> Et à des fonctions utiles comme \n",
    "> - l'exploration de données : afficher des courbes, generer un fichier word avec toutes ces courbes\n",
    "> - la transformation (anonymisation et obfuscation) ou transformation inverse de données"
   ]
  },
  {
   "cell_type": "code",
   "execution_count": null,
   "metadata": {},
   "outputs": [],
   "source": [
    "#| hide\n",
    "from nbdev.showdoc import *"
   ]
  },
  {
   "cell_type": "code",
   "execution_count": null,
   "metadata": {},
   "outputs": [],
   "source": [
    "#| export\n",
    "import pandas as pd\n",
    "from fastcore.test import *\n",
    "from fastcore.utils import *"
   ]
  },
  {
   "cell_type": "markdown",
   "metadata": {},
   "source": [
    "Sans surprise la 1ere dependance est pandas"
   ]
  },
  {
   "cell_type": "code",
   "execution_count": null,
   "metadata": {},
   "outputs": [],
   "source": [
    "import pandas as pd"
   ]
  },
  {
   "cell_type": "code",
   "execution_count": null,
   "metadata": {},
   "outputs": [
    {
     "data": {
      "text/html": [
       "<div>\n",
       "<style scoped>\n",
       "    .dataframe tbody tr th:only-of-type {\n",
       "        vertical-align: middle;\n",
       "    }\n",
       "\n",
       "    .dataframe tbody tr th {\n",
       "        vertical-align: top;\n",
       "    }\n",
       "\n",
       "    .dataframe thead th {\n",
       "        text-align: right;\n",
       "    }\n",
       "</style>\n",
       "<table border=\"1\" class=\"dataframe\">\n",
       "  <thead>\n",
       "    <tr style=\"text-align: right;\">\n",
       "      <th></th>\n",
       "      <th>A</th>\n",
       "      <th>B</th>\n",
       "      <th>C</th>\n",
       "      <th>D</th>\n",
       "      <th>E</th>\n",
       "    </tr>\n",
       "  </thead>\n",
       "  <tbody>\n",
       "    <tr>\n",
       "      <th>0</th>\n",
       "      <td>0</td>\n",
       "      <td>1</td>\n",
       "      <td>2</td>\n",
       "      <td>3</td>\n",
       "      <td>4</td>\n",
       "    </tr>\n",
       "    <tr>\n",
       "      <th>1</th>\n",
       "      <td>5</td>\n",
       "      <td>6</td>\n",
       "      <td>7</td>\n",
       "      <td>8</td>\n",
       "      <td>9</td>\n",
       "    </tr>\n",
       "  </tbody>\n",
       "</table>\n",
       "</div>"
      ],
      "text/plain": [
       "   A  B  C  D  E\n",
       "0  0  1  2  3  4\n",
       "1  5  6  7  8  9"
      ]
     },
     "execution_count": null,
     "metadata": {},
     "output_type": "execute_result"
    }
   ],
   "source": [
    "df_basic = pd.DataFrame([[0, 1, 2, 3, 4], [5, 6, 7, 8, 9]], columns=['A', 'B', 'C', 'D', 'E'])\n",
    "df_basic"
   ]
  },
  {
   "cell_type": "markdown",
   "metadata": {},
   "source": [
    "Je vais faire les tests de base avec ce dataset hyper simple"
   ]
  },
  {
   "cell_type": "code",
   "execution_count": null,
   "metadata": {},
   "outputs": [],
   "source": [
    "#| export\n",
    "class Container():\n",
    "    \"\"\"Un container de dataset qui s'initialise en passant une `clé` et un `dataset`\n",
    "    \"\"\"\n",
    "    def __init__(self, \n",
    "                 cle : str, # la clé du container\n",
    "                 dataset : pd.DataFrame = None, # le dataset\n",
    "                 colonnes_a_masquer : list = [], # les colonnes à masquer\n",
    "                 colonnes_a_conserver : list = [] # les colonnes qui ne seront pas transformées\n",
    "                ):\n",
    "        self.cle = cle\n",
    "        self.dataset = dataset\n",
    "    def __str__(self):\n",
    "        return f'Container for \"{self.cle}\" of shape {self.dataset.shape}' \n",
    "    __repr__ = __str__"
   ]
  },
  {
   "cell_type": "markdown",
   "metadata": {},
   "source": [
    "Un exemple de création d'un container, et ce que ça affiche"
   ]
  },
  {
   "cell_type": "code",
   "execution_count": null,
   "metadata": {},
   "outputs": [
    {
     "data": {
      "text/plain": [
       "Container for \"hyper_basic\" of shape (2, 5)"
      ]
     },
     "execution_count": null,
     "metadata": {},
     "output_type": "execute_result"
    }
   ],
   "source": [
    "basic = Container('hyper_basic', df_basic)\n",
    "basic"
   ]
  },
  {
   "cell_type": "markdown",
   "metadata": {},
   "source": [
    "## Egalité de 2 containers"
   ]
  },
  {
   "cell_type": "markdown",
   "metadata": {},
   "source": [
    "Si la clé et la meme, et le shape du dataset également, alors on est sur le meme container"
   ]
  },
  {
   "cell_type": "code",
   "execution_count": null,
   "metadata": {},
   "outputs": [],
   "source": [
    "#| export\n",
    "@patch\n",
    "def __eq__(self:Container, cont_b:Container): return (self.cle, self.dataset.shape) == (cont_b.cle, cont_b.dataset.shape)"
   ]
  },
  {
   "cell_type": "code",
   "execution_count": null,
   "metadata": {},
   "outputs": [
    {
     "data": {
      "text/html": [
       "<div>\n",
       "<style scoped>\n",
       "    .dataframe tbody tr th:only-of-type {\n",
       "        vertical-align: middle;\n",
       "    }\n",
       "\n",
       "    .dataframe tbody tr th {\n",
       "        vertical-align: top;\n",
       "    }\n",
       "\n",
       "    .dataframe thead th {\n",
       "        text-align: right;\n",
       "    }\n",
       "</style>\n",
       "<table border=\"1\" class=\"dataframe\">\n",
       "  <thead>\n",
       "    <tr style=\"text-align: right;\">\n",
       "      <th></th>\n",
       "      <th>A</th>\n",
       "      <th>B</th>\n",
       "      <th>D</th>\n",
       "      <th>E</th>\n",
       "    </tr>\n",
       "  </thead>\n",
       "  <tbody>\n",
       "    <tr>\n",
       "      <th>0</th>\n",
       "      <td>0</td>\n",
       "      <td>1</td>\n",
       "      <td>3</td>\n",
       "      <td>4</td>\n",
       "    </tr>\n",
       "    <tr>\n",
       "      <th>1</th>\n",
       "      <td>5</td>\n",
       "      <td>6</td>\n",
       "      <td>8</td>\n",
       "      <td>9</td>\n",
       "    </tr>\n",
       "  </tbody>\n",
       "</table>\n",
       "</div>"
      ],
      "text/plain": [
       "   A  B  D  E\n",
       "0  0  1  3  4\n",
       "1  5  6  8  9"
      ]
     },
     "execution_count": null,
     "metadata": {},
     "output_type": "execute_result"
    }
   ],
   "source": [
    "df_basic2 = pd.DataFrame([[0, 1, 3, 4], [5, 6, 8, 9]], columns=['A', 'B', 'D', 'E'])\n",
    "df_basic2"
   ]
  },
  {
   "cell_type": "markdown",
   "metadata": {},
   "source": [
    "ici quelques tests d'égalité"
   ]
  },
  {
   "cell_type": "code",
   "execution_count": null,
   "metadata": {},
   "outputs": [],
   "source": [
    "test_eq(Container('basic', df_basic), Container('basic', df_basic))"
   ]
  },
  {
   "cell_type": "code",
   "execution_count": null,
   "metadata": {},
   "outputs": [],
   "source": [
    "#| hide\n",
    "test_ne(Container('basic', df_basic), Container('basic2', df_basic))\n",
    "test_ne(Container('basic', df_basic), Container('basic', df_basic2))\n",
    "test_ne(Container('basic', df_basic), Container('basic2', df_basic2))"
   ]
  },
  {
   "cell_type": "markdown",
   "metadata": {},
   "source": [
    "## longueur"
   ]
  },
  {
   "cell_type": "code",
   "execution_count": null,
   "metadata": {},
   "outputs": [],
   "source": [
    "#| export\n",
    "@patch\n",
    "def longueur(self:Container):\n",
    "    '''retourne le nombre de lignes du dataset'''\n",
    "    return self.dataset.shape[0]"
   ]
  },
  {
   "cell_type": "code",
   "execution_count": null,
   "metadata": {},
   "outputs": [
    {
     "data": {
      "text/plain": [
       "2"
      ]
     },
     "execution_count": null,
     "metadata": {},
     "output_type": "execute_result"
    }
   ],
   "source": [
    "df_basic2 = pd.DataFrame([[0, 1, 3, 4], [5, 6, 8, 9]], columns=['A', 'B', 'D', 'E'])\n",
    "Container('basic', df_basic2).longueur()"
   ]
  },
  {
   "cell_type": "code",
   "execution_count": null,
   "metadata": {},
   "outputs": [],
   "source": [
    "#| hide\n",
    "test_eq(Container('basic', df_basic2).longueur(), 2)"
   ]
  },
  {
   "cell_type": "code",
   "execution_count": null,
   "metadata": {},
   "outputs": [],
   "source": [
    "#| hide\n",
    "import nbdev; nbdev.nbdev_export()"
   ]
  }
 ],
 "metadata": {
  "kernelspec": {
   "display_name": "dataset_tools",
   "language": "python",
   "name": "dataset_tools"
  }
 },
 "nbformat": 4,
 "nbformat_minor": 4
}
